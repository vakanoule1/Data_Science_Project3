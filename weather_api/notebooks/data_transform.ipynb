{
 "cells": [
  {
   "cell_type": "code",
   "execution_count": 58,
   "metadata": {},
   "outputs": [],
   "source": [
    "import pandas as pd\n",
    "import numpy as np\n",
    "\n",
    "import matplotlib.pyplot as plt\n",
    "import seaborn as sns"
   ]
  },
  {
   "cell_type": "code",
   "execution_count": 59,
   "metadata": {},
   "outputs": [
    {
     "data": {
      "text/html": [
       "<div>\n",
       "<style scoped>\n",
       "    .dataframe tbody tr th:only-of-type {\n",
       "        vertical-align: middle;\n",
       "    }\n",
       "\n",
       "    .dataframe tbody tr th {\n",
       "        vertical-align: top;\n",
       "    }\n",
       "\n",
       "    .dataframe thead th {\n",
       "        text-align: right;\n",
       "    }\n",
       "</style>\n",
       "<table border=\"1\" class=\"dataframe\">\n",
       "  <thead>\n",
       "    <tr style=\"text-align: right;\">\n",
       "      <th></th>\n",
       "      <th>Unnamed: 0</th>\n",
       "      <th>time</th>\n",
       "      <th>temperature_2m</th>\n",
       "      <th>relative_humidity_2m</th>\n",
       "      <th>precipitation</th>\n",
       "      <th>surface_pressure</th>\n",
       "    </tr>\n",
       "  </thead>\n",
       "  <tbody>\n",
       "    <tr>\n",
       "      <th>0</th>\n",
       "      <td>0</td>\n",
       "      <td>2022-01-01T00:00</td>\n",
       "      <td>18.0</td>\n",
       "      <td>96</td>\n",
       "      <td>0.0</td>\n",
       "      <td>906.6</td>\n",
       "    </tr>\n",
       "    <tr>\n",
       "      <th>1</th>\n",
       "      <td>1</td>\n",
       "      <td>2022-01-01T01:00</td>\n",
       "      <td>18.2</td>\n",
       "      <td>95</td>\n",
       "      <td>0.1</td>\n",
       "      <td>907.4</td>\n",
       "    </tr>\n",
       "    <tr>\n",
       "      <th>2</th>\n",
       "      <td>2</td>\n",
       "      <td>2022-01-01T02:00</td>\n",
       "      <td>18.0</td>\n",
       "      <td>96</td>\n",
       "      <td>0.1</td>\n",
       "      <td>907.2</td>\n",
       "    </tr>\n",
       "    <tr>\n",
       "      <th>3</th>\n",
       "      <td>3</td>\n",
       "      <td>2022-01-01T03:00</td>\n",
       "      <td>17.9</td>\n",
       "      <td>97</td>\n",
       "      <td>0.3</td>\n",
       "      <td>906.5</td>\n",
       "    </tr>\n",
       "    <tr>\n",
       "      <th>4</th>\n",
       "      <td>4</td>\n",
       "      <td>2022-01-01T04:00</td>\n",
       "      <td>17.8</td>\n",
       "      <td>98</td>\n",
       "      <td>1.0</td>\n",
       "      <td>905.9</td>\n",
       "    </tr>\n",
       "    <tr>\n",
       "      <th>...</th>\n",
       "      <td>...</td>\n",
       "      <td>...</td>\n",
       "      <td>...</td>\n",
       "      <td>...</td>\n",
       "      <td>...</td>\n",
       "      <td>...</td>\n",
       "    </tr>\n",
       "    <tr>\n",
       "      <th>17515</th>\n",
       "      <td>17515</td>\n",
       "      <td>2023-12-31T19:00</td>\n",
       "      <td>26.5</td>\n",
       "      <td>75</td>\n",
       "      <td>0.5</td>\n",
       "      <td>908.8</td>\n",
       "    </tr>\n",
       "    <tr>\n",
       "      <th>17516</th>\n",
       "      <td>17516</td>\n",
       "      <td>2023-12-31T20:00</td>\n",
       "      <td>25.9</td>\n",
       "      <td>78</td>\n",
       "      <td>0.5</td>\n",
       "      <td>908.4</td>\n",
       "    </tr>\n",
       "    <tr>\n",
       "      <th>17517</th>\n",
       "      <td>17517</td>\n",
       "      <td>2023-12-31T21:00</td>\n",
       "      <td>25.2</td>\n",
       "      <td>82</td>\n",
       "      <td>0.5</td>\n",
       "      <td>908.5</td>\n",
       "    </tr>\n",
       "    <tr>\n",
       "      <th>17518</th>\n",
       "      <td>17518</td>\n",
       "      <td>2023-12-31T22:00</td>\n",
       "      <td>24.0</td>\n",
       "      <td>85</td>\n",
       "      <td>3.2</td>\n",
       "      <td>909.0</td>\n",
       "    </tr>\n",
       "    <tr>\n",
       "      <th>17519</th>\n",
       "      <td>17519</td>\n",
       "      <td>2023-12-31T23:00</td>\n",
       "      <td>22.7</td>\n",
       "      <td>87</td>\n",
       "      <td>3.2</td>\n",
       "      <td>909.8</td>\n",
       "    </tr>\n",
       "  </tbody>\n",
       "</table>\n",
       "<p>17520 rows × 6 columns</p>\n",
       "</div>"
      ],
      "text/plain": [
       "       Unnamed: 0              time  temperature_2m  relative_humidity_2m  \\\n",
       "0               0  2022-01-01T00:00            18.0                    96   \n",
       "1               1  2022-01-01T01:00            18.2                    95   \n",
       "2               2  2022-01-01T02:00            18.0                    96   \n",
       "3               3  2022-01-01T03:00            17.9                    97   \n",
       "4               4  2022-01-01T04:00            17.8                    98   \n",
       "...           ...               ...             ...                   ...   \n",
       "17515       17515  2023-12-31T19:00            26.5                    75   \n",
       "17516       17516  2023-12-31T20:00            25.9                    78   \n",
       "17517       17517  2023-12-31T21:00            25.2                    82   \n",
       "17518       17518  2023-12-31T22:00            24.0                    85   \n",
       "17519       17519  2023-12-31T23:00            22.7                    87   \n",
       "\n",
       "       precipitation  surface_pressure  \n",
       "0                0.0             906.6  \n",
       "1                0.1             907.4  \n",
       "2                0.1             907.2  \n",
       "3                0.3             906.5  \n",
       "4                1.0             905.9  \n",
       "...              ...               ...  \n",
       "17515            0.5             908.8  \n",
       "17516            0.5             908.4  \n",
       "17517            0.5             908.5  \n",
       "17518            3.2             909.0  \n",
       "17519            3.2             909.8  \n",
       "\n",
       "[17520 rows x 6 columns]"
      ]
     },
     "execution_count": 59,
     "metadata": {},
     "output_type": "execute_result"
    }
   ],
   "source": [
    "# Load in your data from \"data/csv/weather_api.csv\"\n",
    "df = pd.read_csv(\"/Users/sa9/Desktop/Data_Science_Project3/weather_api/data/csv/weather_api.csv\")\n",
    "df"
   ]
  },
  {
   "cell_type": "code",
   "execution_count": 60,
   "metadata": {},
   "outputs": [],
   "source": [
    "# Save dataframe object to CSV file.\n",
    "df. to_csv(\"/Users/sa9/Desktop/Data_Science_Project3/weather_api/data/csv/weather_api.csv\")"
   ]
  },
  {
   "cell_type": "code",
   "execution_count": 62,
   "metadata": {},
   "outputs": [
    {
     "data": {
      "text/html": [
       "<div>\n",
       "<style scoped>\n",
       "    .dataframe tbody tr th:only-of-type {\n",
       "        vertical-align: middle;\n",
       "    }\n",
       "\n",
       "    .dataframe tbody tr th {\n",
       "        vertical-align: top;\n",
       "    }\n",
       "\n",
       "    .dataframe thead th {\n",
       "        text-align: right;\n",
       "    }\n",
       "</style>\n",
       "<table border=\"1\" class=\"dataframe\">\n",
       "  <thead>\n",
       "    <tr style=\"text-align: right;\">\n",
       "      <th></th>\n",
       "      <th>Unnamed: 0</th>\n",
       "      <th>temperature_2m</th>\n",
       "      <th>relative_humidity_2m</th>\n",
       "      <th>precipitation</th>\n",
       "      <th>surface_pressure</th>\n",
       "    </tr>\n",
       "    <tr>\n",
       "      <th>time</th>\n",
       "      <th></th>\n",
       "      <th></th>\n",
       "      <th></th>\n",
       "      <th></th>\n",
       "      <th></th>\n",
       "    </tr>\n",
       "  </thead>\n",
       "  <tbody>\n",
       "    <tr>\n",
       "      <th>2022-01-01 00:00:00</th>\n",
       "      <td>0</td>\n",
       "      <td>18.0</td>\n",
       "      <td>96</td>\n",
       "      <td>0.0</td>\n",
       "      <td>906.6</td>\n",
       "    </tr>\n",
       "    <tr>\n",
       "      <th>2022-01-01 01:00:00</th>\n",
       "      <td>1</td>\n",
       "      <td>18.2</td>\n",
       "      <td>95</td>\n",
       "      <td>0.1</td>\n",
       "      <td>907.4</td>\n",
       "    </tr>\n",
       "    <tr>\n",
       "      <th>2022-01-01 02:00:00</th>\n",
       "      <td>2</td>\n",
       "      <td>18.0</td>\n",
       "      <td>96</td>\n",
       "      <td>0.1</td>\n",
       "      <td>907.2</td>\n",
       "    </tr>\n",
       "    <tr>\n",
       "      <th>2022-01-01 03:00:00</th>\n",
       "      <td>3</td>\n",
       "      <td>17.9</td>\n",
       "      <td>97</td>\n",
       "      <td>0.3</td>\n",
       "      <td>906.5</td>\n",
       "    </tr>\n",
       "    <tr>\n",
       "      <th>2022-01-01 04:00:00</th>\n",
       "      <td>4</td>\n",
       "      <td>17.8</td>\n",
       "      <td>98</td>\n",
       "      <td>1.0</td>\n",
       "      <td>905.9</td>\n",
       "    </tr>\n",
       "  </tbody>\n",
       "</table>\n",
       "</div>"
      ],
      "text/plain": [
       "                     Unnamed: 0  temperature_2m  relative_humidity_2m  \\\n",
       "time                                                                    \n",
       "2022-01-01 00:00:00           0            18.0                    96   \n",
       "2022-01-01 01:00:00           1            18.2                    95   \n",
       "2022-01-01 02:00:00           2            18.0                    96   \n",
       "2022-01-01 03:00:00           3            17.9                    97   \n",
       "2022-01-01 04:00:00           4            17.8                    98   \n",
       "\n",
       "                     precipitation  surface_pressure  \n",
       "time                                                  \n",
       "2022-01-01 00:00:00            0.0             906.6  \n",
       "2022-01-01 01:00:00            0.1             907.4  \n",
       "2022-01-01 02:00:00            0.1             907.2  \n",
       "2022-01-01 03:00:00            0.3             906.5  \n",
       "2022-01-01 04:00:00            1.0             905.9  "
      ]
     },
     "execution_count": 62,
     "metadata": {},
     "output_type": "execute_result"
    }
   ],
   "source": [
    "# Convert the `time` column into a datetime data-type\n",
    "df[\"time\"] = pd. to_datetime(df[\"time\"])\n",
    "df. set_index(\"time\", inplace=True)\n",
    "df. head ( )\n"
   ]
  },
  {
   "cell_type": "code",
   "execution_count": 63,
   "metadata": {},
   "outputs": [
    {
     "data": {
      "text/html": [
       "<div>\n",
       "<style scoped>\n",
       "    .dataframe tbody tr th:only-of-type {\n",
       "        vertical-align: middle;\n",
       "    }\n",
       "\n",
       "    .dataframe tbody tr th {\n",
       "        vertical-align: top;\n",
       "    }\n",
       "\n",
       "    .dataframe thead th {\n",
       "        text-align: right;\n",
       "    }\n",
       "</style>\n",
       "<table border=\"1\" class=\"dataframe\">\n",
       "  <thead>\n",
       "    <tr style=\"text-align: right;\">\n",
       "      <th></th>\n",
       "      <th>Unnamed: 0</th>\n",
       "      <th>temperature_2m</th>\n",
       "      <th>relative_humidity_2m</th>\n",
       "      <th>precipitation</th>\n",
       "      <th>surface_pressure</th>\n",
       "    </tr>\n",
       "    <tr>\n",
       "      <th>time</th>\n",
       "      <th></th>\n",
       "      <th></th>\n",
       "      <th></th>\n",
       "      <th></th>\n",
       "      <th></th>\n",
       "    </tr>\n",
       "  </thead>\n",
       "  <tbody>\n",
       "    <tr>\n",
       "      <th>2022-01-01 00:00:00</th>\n",
       "      <td>0</td>\n",
       "      <td>18.0</td>\n",
       "      <td>96</td>\n",
       "      <td>0.0</td>\n",
       "      <td>906.6</td>\n",
       "    </tr>\n",
       "    <tr>\n",
       "      <th>2022-01-01 01:00:00</th>\n",
       "      <td>1</td>\n",
       "      <td>18.2</td>\n",
       "      <td>95</td>\n",
       "      <td>0.1</td>\n",
       "      <td>907.4</td>\n",
       "    </tr>\n",
       "    <tr>\n",
       "      <th>2022-01-01 02:00:00</th>\n",
       "      <td>2</td>\n",
       "      <td>18.0</td>\n",
       "      <td>96</td>\n",
       "      <td>0.1</td>\n",
       "      <td>907.2</td>\n",
       "    </tr>\n",
       "    <tr>\n",
       "      <th>2022-01-01 03:00:00</th>\n",
       "      <td>3</td>\n",
       "      <td>17.9</td>\n",
       "      <td>97</td>\n",
       "      <td>0.3</td>\n",
       "      <td>906.5</td>\n",
       "    </tr>\n",
       "    <tr>\n",
       "      <th>2022-01-01 04:00:00</th>\n",
       "      <td>4</td>\n",
       "      <td>17.8</td>\n",
       "      <td>98</td>\n",
       "      <td>1.0</td>\n",
       "      <td>905.9</td>\n",
       "    </tr>\n",
       "  </tbody>\n",
       "</table>\n",
       "</div>"
      ],
      "text/plain": [
       "                     Unnamed: 0  temperature_2m  relative_humidity_2m  \\\n",
       "time                                                                    \n",
       "2022-01-01 00:00:00           0            18.0                    96   \n",
       "2022-01-01 01:00:00           1            18.2                    95   \n",
       "2022-01-01 02:00:00           2            18.0                    96   \n",
       "2022-01-01 03:00:00           3            17.9                    97   \n",
       "2022-01-01 04:00:00           4            17.8                    98   \n",
       "\n",
       "                     precipitation  surface_pressure  \n",
       "time                                                  \n",
       "2022-01-01 00:00:00            0.0             906.6  \n",
       "2022-01-01 01:00:00            0.1             907.4  \n",
       "2022-01-01 02:00:00            0.1             907.2  \n",
       "2022-01-01 03:00:00            0.3             906.5  \n",
       "2022-01-01 04:00:00            1.0             905.9  "
      ]
     },
     "execution_count": 63,
     "metadata": {},
     "output_type": "execute_result"
    }
   ],
   "source": [
    "# observe first 5 rows\n",
    "df.head()"
   ]
  },
  {
   "cell_type": "code",
   "execution_count": 64,
   "metadata": {},
   "outputs": [
    {
     "data": {
      "text/html": [
       "<div>\n",
       "<style scoped>\n",
       "    .dataframe tbody tr th:only-of-type {\n",
       "        vertical-align: middle;\n",
       "    }\n",
       "\n",
       "    .dataframe tbody tr th {\n",
       "        vertical-align: top;\n",
       "    }\n",
       "\n",
       "    .dataframe thead th {\n",
       "        text-align: right;\n",
       "    }\n",
       "</style>\n",
       "<table border=\"1\" class=\"dataframe\">\n",
       "  <thead>\n",
       "    <tr style=\"text-align: right;\">\n",
       "      <th></th>\n",
       "      <th>Unnamed: 0</th>\n",
       "      <th>temperature_2m</th>\n",
       "      <th>relative_humidity_2m</th>\n",
       "      <th>precipitation</th>\n",
       "      <th>surface_pressure</th>\n",
       "    </tr>\n",
       "  </thead>\n",
       "  <tbody>\n",
       "    <tr>\n",
       "      <th>count</th>\n",
       "      <td>17520.000000</td>\n",
       "      <td>17520.000000</td>\n",
       "      <td>17520.000000</td>\n",
       "      <td>17520.000000</td>\n",
       "      <td>17520.000000</td>\n",
       "    </tr>\n",
       "    <tr>\n",
       "      <th>mean</th>\n",
       "      <td>8759.500000</td>\n",
       "      <td>19.833516</td>\n",
       "      <td>73.889498</td>\n",
       "      <td>0.129892</td>\n",
       "      <td>912.478727</td>\n",
       "    </tr>\n",
       "    <tr>\n",
       "      <th>std</th>\n",
       "      <td>5057.732694</td>\n",
       "      <td>5.050487</td>\n",
       "      <td>18.988281</td>\n",
       "      <td>0.452241</td>\n",
       "      <td>3.100406</td>\n",
       "    </tr>\n",
       "    <tr>\n",
       "      <th>min</th>\n",
       "      <td>0.000000</td>\n",
       "      <td>2.200000</td>\n",
       "      <td>17.000000</td>\n",
       "      <td>0.000000</td>\n",
       "      <td>902.400000</td>\n",
       "    </tr>\n",
       "    <tr>\n",
       "      <th>25%</th>\n",
       "      <td>4379.750000</td>\n",
       "      <td>16.800000</td>\n",
       "      <td>60.000000</td>\n",
       "      <td>0.000000</td>\n",
       "      <td>910.300000</td>\n",
       "    </tr>\n",
       "    <tr>\n",
       "      <th>50%</th>\n",
       "      <td>8759.500000</td>\n",
       "      <td>19.700000</td>\n",
       "      <td>78.000000</td>\n",
       "      <td>0.000000</td>\n",
       "      <td>912.500000</td>\n",
       "    </tr>\n",
       "    <tr>\n",
       "      <th>75%</th>\n",
       "      <td>13139.250000</td>\n",
       "      <td>23.400000</td>\n",
       "      <td>90.000000</td>\n",
       "      <td>0.000000</td>\n",
       "      <td>914.600000</td>\n",
       "    </tr>\n",
       "    <tr>\n",
       "      <th>max</th>\n",
       "      <td>17519.000000</td>\n",
       "      <td>36.400000</td>\n",
       "      <td>100.000000</td>\n",
       "      <td>10.900000</td>\n",
       "      <td>925.300000</td>\n",
       "    </tr>\n",
       "  </tbody>\n",
       "</table>\n",
       "</div>"
      ],
      "text/plain": [
       "         Unnamed: 0  temperature_2m  relative_humidity_2m  precipitation  \\\n",
       "count  17520.000000    17520.000000          17520.000000   17520.000000   \n",
       "mean    8759.500000       19.833516             73.889498       0.129892   \n",
       "std     5057.732694        5.050487             18.988281       0.452241   \n",
       "min        0.000000        2.200000             17.000000       0.000000   \n",
       "25%     4379.750000       16.800000             60.000000       0.000000   \n",
       "50%     8759.500000       19.700000             78.000000       0.000000   \n",
       "75%    13139.250000       23.400000             90.000000       0.000000   \n",
       "max    17519.000000       36.400000            100.000000      10.900000   \n",
       "\n",
       "       surface_pressure  \n",
       "count      17520.000000  \n",
       "mean         912.478727  \n",
       "std            3.100406  \n",
       "min          902.400000  \n",
       "25%          910.300000  \n",
       "50%          912.500000  \n",
       "75%          914.600000  \n",
       "max          925.300000  "
      ]
     },
     "execution_count": 64,
     "metadata": {},
     "output_type": "execute_result"
    }
   ],
   "source": [
    "# describe tukey's numbers\n",
    "df.describe()"
   ]
  },
  {
   "cell_type": "markdown",
   "metadata": {},
   "source": [
    "I see that the mean = 8759.500000 is equal to the median = 8759.500000 meaning that the data is evenly spread within the center point, with no potential skew."
   ]
  },
  {
   "cell_type": "code",
   "execution_count": 65,
   "metadata": {},
   "outputs": [
    {
     "name": "stdout",
     "output_type": "stream",
     "text": [
      "<class 'pandas.core.frame.DataFrame'>\n",
      "DatetimeIndex: 17520 entries, 2022-01-01 00:00:00 to 2023-12-31 23:00:00\n",
      "Data columns (total 5 columns):\n",
      " #   Column                Non-Null Count  Dtype  \n",
      "---  ------                --------------  -----  \n",
      " 0   Unnamed: 0            17520 non-null  int64  \n",
      " 1   temperature_2m        17520 non-null  float64\n",
      " 2   relative_humidity_2m  17520 non-null  int64  \n",
      " 3   precipitation         17520 non-null  float64\n",
      " 4   surface_pressure      17520 non-null  float64\n",
      "dtypes: float64(3), int64(2)\n",
      "memory usage: 821.2 KB\n"
     ]
    }
   ],
   "source": [
    "# data type of each of the column\n",
    "df.info()"
   ]
  },
  {
   "cell_type": "code",
   "execution_count": 66,
   "metadata": {},
   "outputs": [
    {
     "data": {
      "text/html": [
       "<div>\n",
       "<style scoped>\n",
       "    .dataframe tbody tr th:only-of-type {\n",
       "        vertical-align: middle;\n",
       "    }\n",
       "\n",
       "    .dataframe tbody tr th {\n",
       "        vertical-align: top;\n",
       "    }\n",
       "\n",
       "    .dataframe thead th {\n",
       "        text-align: right;\n",
       "    }\n",
       "</style>\n",
       "<table border=\"1\" class=\"dataframe\">\n",
       "  <thead>\n",
       "    <tr style=\"text-align: right;\">\n",
       "      <th></th>\n",
       "      <th>Unnamed: 0</th>\n",
       "      <th>temperature_2m</th>\n",
       "      <th>relative_humidity_2m</th>\n",
       "      <th>precipitation</th>\n",
       "      <th>surface_pressure</th>\n",
       "    </tr>\n",
       "    <tr>\n",
       "      <th>time</th>\n",
       "      <th></th>\n",
       "      <th></th>\n",
       "      <th></th>\n",
       "      <th></th>\n",
       "      <th></th>\n",
       "    </tr>\n",
       "  </thead>\n",
       "  <tbody>\n",
       "    <tr>\n",
       "      <th>2022-01-01 00:00:00</th>\n",
       "      <td>False</td>\n",
       "      <td>False</td>\n",
       "      <td>False</td>\n",
       "      <td>False</td>\n",
       "      <td>False</td>\n",
       "    </tr>\n",
       "    <tr>\n",
       "      <th>2022-01-01 01:00:00</th>\n",
       "      <td>False</td>\n",
       "      <td>False</td>\n",
       "      <td>False</td>\n",
       "      <td>False</td>\n",
       "      <td>False</td>\n",
       "    </tr>\n",
       "    <tr>\n",
       "      <th>2022-01-01 02:00:00</th>\n",
       "      <td>False</td>\n",
       "      <td>False</td>\n",
       "      <td>False</td>\n",
       "      <td>False</td>\n",
       "      <td>False</td>\n",
       "    </tr>\n",
       "    <tr>\n",
       "      <th>2022-01-01 03:00:00</th>\n",
       "      <td>False</td>\n",
       "      <td>False</td>\n",
       "      <td>False</td>\n",
       "      <td>False</td>\n",
       "      <td>False</td>\n",
       "    </tr>\n",
       "    <tr>\n",
       "      <th>2022-01-01 04:00:00</th>\n",
       "      <td>False</td>\n",
       "      <td>False</td>\n",
       "      <td>False</td>\n",
       "      <td>False</td>\n",
       "      <td>False</td>\n",
       "    </tr>\n",
       "    <tr>\n",
       "      <th>...</th>\n",
       "      <td>...</td>\n",
       "      <td>...</td>\n",
       "      <td>...</td>\n",
       "      <td>...</td>\n",
       "      <td>...</td>\n",
       "    </tr>\n",
       "    <tr>\n",
       "      <th>2023-12-31 19:00:00</th>\n",
       "      <td>False</td>\n",
       "      <td>False</td>\n",
       "      <td>False</td>\n",
       "      <td>False</td>\n",
       "      <td>False</td>\n",
       "    </tr>\n",
       "    <tr>\n",
       "      <th>2023-12-31 20:00:00</th>\n",
       "      <td>False</td>\n",
       "      <td>False</td>\n",
       "      <td>False</td>\n",
       "      <td>False</td>\n",
       "      <td>False</td>\n",
       "    </tr>\n",
       "    <tr>\n",
       "      <th>2023-12-31 21:00:00</th>\n",
       "      <td>False</td>\n",
       "      <td>False</td>\n",
       "      <td>False</td>\n",
       "      <td>False</td>\n",
       "      <td>False</td>\n",
       "    </tr>\n",
       "    <tr>\n",
       "      <th>2023-12-31 22:00:00</th>\n",
       "      <td>False</td>\n",
       "      <td>False</td>\n",
       "      <td>False</td>\n",
       "      <td>False</td>\n",
       "      <td>False</td>\n",
       "    </tr>\n",
       "    <tr>\n",
       "      <th>2023-12-31 23:00:00</th>\n",
       "      <td>False</td>\n",
       "      <td>False</td>\n",
       "      <td>False</td>\n",
       "      <td>False</td>\n",
       "      <td>False</td>\n",
       "    </tr>\n",
       "  </tbody>\n",
       "</table>\n",
       "<p>17520 rows × 5 columns</p>\n",
       "</div>"
      ],
      "text/plain": [
       "                     Unnamed: 0  temperature_2m  relative_humidity_2m  \\\n",
       "time                                                                    \n",
       "2022-01-01 00:00:00       False           False                 False   \n",
       "2022-01-01 01:00:00       False           False                 False   \n",
       "2022-01-01 02:00:00       False           False                 False   \n",
       "2022-01-01 03:00:00       False           False                 False   \n",
       "2022-01-01 04:00:00       False           False                 False   \n",
       "...                         ...             ...                   ...   \n",
       "2023-12-31 19:00:00       False           False                 False   \n",
       "2023-12-31 20:00:00       False           False                 False   \n",
       "2023-12-31 21:00:00       False           False                 False   \n",
       "2023-12-31 22:00:00       False           False                 False   \n",
       "2023-12-31 23:00:00       False           False                 False   \n",
       "\n",
       "                     precipitation  surface_pressure  \n",
       "time                                                  \n",
       "2022-01-01 00:00:00          False             False  \n",
       "2022-01-01 01:00:00          False             False  \n",
       "2022-01-01 02:00:00          False             False  \n",
       "2022-01-01 03:00:00          False             False  \n",
       "2022-01-01 04:00:00          False             False  \n",
       "...                            ...               ...  \n",
       "2023-12-31 19:00:00          False             False  \n",
       "2023-12-31 20:00:00          False             False  \n",
       "2023-12-31 21:00:00          False             False  \n",
       "2023-12-31 22:00:00          False             False  \n",
       "2023-12-31 23:00:00          False             False  \n",
       "\n",
       "[17520 rows x 5 columns]"
      ]
     },
     "execution_count": 66,
     "metadata": {},
     "output_type": "execute_result"
    }
   ],
   "source": [
    "# check for non-null values\n",
    "df .isna()"
   ]
  },
  {
   "cell_type": "code",
   "execution_count": 67,
   "metadata": {},
   "outputs": [
    {
     "data": {
      "text/plain": [
       "Unnamed: 0              153466440.0\n",
       "temperature_2m             347483.2\n",
       "relative_humidity_2m      1294544.0\n",
       "precipitation                2275.7\n",
       "surface_pressure         15986627.3\n",
       "dtype: float64"
      ]
     },
     "execution_count": 67,
     "metadata": {},
     "output_type": "execute_result"
    }
   ],
   "source": [
    "# get the sum of of each column\n",
    "df.sum()"
   ]
  },
  {
   "cell_type": "code",
   "execution_count": 68,
   "metadata": {},
   "outputs": [
    {
     "data": {
      "text/plain": [
       "0.12989155251141551"
      ]
     },
     "execution_count": 68,
     "metadata": {},
     "output_type": "execute_result"
    }
   ],
   "source": [
    "#    To select the precipitation column only\n",
    "\n",
    "df[\"precipitation\"].mean()\n"
   ]
  },
  {
   "cell_type": "code",
   "execution_count": 72,
   "metadata": {},
   "outputs": [],
   "source": [
    "# Using .loc to select the precipitation column only and the row 0\n",
    "#df.loc[0, \"precipitation\"].mean()"
   ]
  },
  {
   "cell_type": "code",
   "execution_count": 70,
   "metadata": {},
   "outputs": [
    {
     "name": "stderr",
     "output_type": "stream",
     "text": [
      "/var/folders/zs/05tlqm715b37pcfrg921ffw80000gn/T/ipykernel_24266/753582356.py:17: FutureWarning: 'M' is deprecated and will be removed in a future version, please use 'ME' instead.\n",
      "  monthly_median = df.resample (\"M\") [\"temperature_2m\" , \"relative_humidity_2m\", \"precipitation\", \"surface_pressure\"]. mean ( )\n"
     ]
    }
   ],
   "source": [
    "\"\"\"\n",
    "# monthly medians on temperature, relative humidity, precipitation, and surface pressure for all available months\n",
    "#(million_60kgs_bag, nonbear_mill_trees, bear_mill_trees, avg_unemp_perc) for each respective year present for Minas Gerais\n",
    "df[date] = pd.to_datetime(df['time'])\n",
    "\"\"\"\n",
    "\n",
    "# Resample according to months and calculate the mean on temperature, relative humidity, precipitation, and surface pressure for all available months\n",
    "monthly_median = df.resample (\"M\") [\"temperature_2m\" , \"relative_humidity_2m\", \"precipitation\", \"surface_pressure\"]. mean ( )\n",
    "\n",
    "# Save dataframe as monthly_median.csv in the specified path\n",
    "monthly_median.to_csv(\"/Users/sa9/Desktop/Data_Science_Project3/weather_api/notebooks/monthly_median.csv\")"
   ]
  },
  {
   "cell_type": "code",
   "execution_count": 76,
   "metadata": {},
   "outputs": [
    {
     "name": "stdout",
     "output_type": "stream",
     "text": [
      "            temperature_2m  relative_humidity_2m  precipitation  \\\n",
      "time                                                              \n",
      "2022-01-31       20.261022             87.877688       0.395968   \n",
      "2022-02-28       20.002232             87.721726       0.275744   \n",
      "2022-03-31       20.702419             81.251344       0.165188   \n",
      "2022-04-30       19.052222             80.368056       0.075833   \n",
      "2022-05-31       15.173522             76.344086       0.028226   \n",
      "2022-06-30       15.963889             71.386111       0.027083   \n",
      "2022-07-31       17.056048             59.086022       0.000000   \n",
      "2022-08-31       17.428495             57.412634       0.014651   \n",
      "2022-09-30       19.481111             60.291667       0.106667   \n",
      "2022-10-31       21.061425             68.380376       0.142339   \n",
      "2022-11-30       19.587222             73.861111       0.146667   \n",
      "2022-12-31       21.038038             81.237903       0.316801   \n",
      "2023-01-31       21.410081             83.889785       0.444355   \n",
      "2023-02-28       22.303274             83.163690       0.174405   \n",
      "2023-03-31       22.203495             78.061828       0.163710   \n",
      "2023-04-30       19.954444             78.402778       0.088750   \n",
      "2023-05-31       17.383737             73.926075       0.027151   \n",
      "2023-06-30       15.771528             75.362500       0.002222   \n",
      "2023-07-31       16.787366             70.959677       0.016398   \n",
      "2023-08-31       19.204973             67.462366       0.049731   \n",
      "2023-09-30       23.241389             60.388889       0.011806   \n",
      "2023-10-31       23.171505             75.840054       0.172581   \n",
      "2023-11-30       24.155556             68.418056       0.110417   \n",
      "2023-12-31       23.817608             73.759409       0.163978   \n",
      "\n",
      "            surface_pressure  \n",
      "time                          \n",
      "2022-01-31        908.988306  \n",
      "2022-02-28        909.357440  \n",
      "2022-03-31        910.306720  \n",
      "2022-04-30        911.054167  \n",
      "2022-05-31        912.595027  \n",
      "2022-06-30        912.877500  \n",
      "2022-07-31        914.302151  \n",
      "2022-08-31        914.010887  \n",
      "2022-09-30        912.187361  \n",
      "2022-10-31        910.754570  \n",
      "2022-11-30        910.517083  \n",
      "2022-12-31        910.396909  \n",
      "2023-01-31        911.603898  \n",
      "2023-02-28        912.595089  \n",
      "2023-03-31        913.517876  \n",
      "2023-04-30        912.587778  \n",
      "2023-05-31        914.758871  \n",
      "2023-06-30        916.335833  \n",
      "2023-07-31        916.494086  \n",
      "2023-08-31        914.539382  \n",
      "2023-09-30        914.074722  \n",
      "2023-10-31        912.088441  \n",
      "2023-11-30        911.608333  \n",
      "2023-12-31        911.691801  \n"
     ]
    }
   ],
   "source": [
    "print(monthly_median)"
   ]
  },
  {
   "cell_type": "code",
   "execution_count": null,
   "metadata": {},
   "outputs": [
    {
     "data": {
      "text/plain": [
       "<Axes: xlabel='time'>"
      ]
     },
     "execution_count": 31,
     "metadata": {},
     "output_type": "execute_result"
    },
    {
     "data": {
      "image/png": "[encoded data removed]",
      "text/plain": [
       "<Figure size 640x480 with 1 Axes>"
      ]
     },
     "metadata": {},
     "output_type": "display_data"
    }
   ],
   "source": [
    "monthly_median.plot()"
   ]
  },
  {
   "cell_type": "code",
   "execution_count": 71,
   "metadata": {},
   "outputs": [
    {
     "name": "stderr",
     "output_type": "stream",
     "text": [
      "/var/folders/zs/05tlqm715b37pcfrg921ffw80000gn/T/ipykernel_24266/230818071.py:8: FutureWarning: 'Y' is deprecated and will be removed in a future version, please use 'YE' instead.\n",
      "  yearly_median = df.resample (\"1Y\") [\"temperature_2m\" , \"relative_humidity_2m\", \"precipitation\", \"surface_pressure\"]. mean ( )\n"
     ]
    }
   ],
   "source": [
    "\"\"\"# yearly medians on temperature, relative humidity, precipitation, and surface pressure for all available years\n",
    "# (million_60kgs_bag, nonbear_mill_trees, bear_mill_trees, avg_unemp_perc) for each respective year present for Minas Gerais\n",
    "\"\"\"\n",
    "# Resample according to 1-year and calculate the mean on temperature, relative humidity, precipitation, and surface pressure for all available years\n",
    "yearly_median = df.resample (\"1Y\") [\"temperature_2m\" , \"relative_humidity_2m\", \"precipitation\", \"surface_pressure\"]. mean ( )\n",
    "\n",
    "# Save dataframe as yearly_median.csv in the specified path\n",
    "yearly_median. to_csv(\"/Users/sa9/Desktop/Data_Science_Project3/weather_api/notebooks/yearly_median.csv\")"
   ]
  },
  {
   "cell_type": "code",
   "execution_count": 77,
   "metadata": {},
   "outputs": [
    {
     "name": "stdout",
     "output_type": "stream",
     "text": [
      "            temperature_2m  relative_humidity_2m  precipitation  \\\n",
      "time                                                              \n",
      "2022-12-31       18.895742             73.678653       0.140731   \n",
      "2023-12-31       20.771290             74.100342       0.119053   \n",
      "\n",
      "            surface_pressure  \n",
      "time                          \n",
      "2022-12-31        911.460502  \n",
      "2023-12-31        913.496952  \n"
     ]
    }
   ],
   "source": [
    "print(yearly_median)"
   ]
  },
  {
   "cell_type": "markdown",
   "metadata": {},
   "source": [
    "I see that weather has not changed much over the years. So, the harvest in Minas Gerais still the same."
   ]
  },
  {
   "cell_type": "code",
   "execution_count": 73,
   "metadata": {},
   "outputs": [
    {
     "data": {
      "text/plain": [
       "<Axes: xlabel='time'>"
      ]
     },
     "execution_count": 73,
     "metadata": {},
     "output_type": "execute_result"
    },
    {
     "data": {
      "image/png": "[encoded data removed]",
      "text/plain": [
       "<Figure size 640x480 with 1 Axes>"
      ]
     },
     "metadata": {},
     "output_type": "display_data"
    }
   ],
   "source": [
    "yearly_median.plot()"
   ]
  },
  {
   "cell_type": "markdown",
   "metadata": {},
   "source": [
    "The graph of temperature, relative humidity, precipitation, and surface pressure are linear, showing no changes. This means that the harvest outcome was the same between Janaury 2022 and Octber 2023."
   ]
  }
 ],
 "metadata": {
  "kernelspec": {
   "display_name": "Python 3",
   "language": "python",
   "name": "python3"
  },
  "language_info": {
   "codemirror_mode": {
    "name": "ipython",
    "version": 3
   },
   "file_extension": ".py",
   "mimetype": "text/x-python",
   "name": "python",
   "nbconvert_exporter": "python",
   "pygments_lexer": "ipython3",
   "version": "3.12.7"
  }
 },
 "nbformat": 4,
 "nbformat_minor": 2
}
